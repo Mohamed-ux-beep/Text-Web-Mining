{
 "cells": [
  {
   "cell_type": "code",
   "execution_count": 185,
   "metadata": {},
   "outputs": [],
   "source": [
    "import pickle\n",
    "from sklearn.metrics.pairwise import euclidean_distances\n",
    "import pandas as pd\n",
    "import warnings\n",
    "from sklearn.metrics.pairwise import cosine_similarity\n",
    "from termcolor import colored"
   ]
  },
  {
   "cell_type": "code",
   "execution_count": 74,
   "metadata": {},
   "outputs": [],
   "source": [
    "# einlesen von daten \n",
    "dft = pd.read_csv('wiki_movie_plots_deduped.csv')"
   ]
  },
  {
   "cell_type": "code",
   "execution_count": 75,
   "metadata": {},
   "outputs": [
    {
     "data": {
      "text/plain": [
       "Index(['Release Year', 'Title', 'Origin/Ethnicity', 'Director', 'Cast',\n",
       "       'Genre', 'Wiki Page', 'Plot'],\n",
       "      dtype='object')"
      ]
     },
     "execution_count": 75,
     "metadata": {},
     "output_type": "execute_result"
    }
   ],
   "source": [
    "dft.columns"
   ]
  },
  {
   "cell_type": "code",
   "execution_count": 76,
   "metadata": {},
   "outputs": [
    {
     "name": "stdout",
     "output_type": "stream",
     "text": [
      "Länge der Liste 34886\n"
     ]
    }
   ],
   "source": [
    "texts = dft['Plot'].values.tolist()\n",
    "print(f\"Länge der Liste {len(texts)}\")"
   ]
  },
  {
   "cell_type": "code",
   "execution_count": 77,
   "metadata": {},
   "outputs": [],
   "source": [
    "warnings.filterwarnings(\"ignore\")"
   ]
  },
  {
   "cell_type": "code",
   "execution_count": 79,
   "metadata": {},
   "outputs": [],
   "source": [
    "with open('vecs_count.pkl', 'rb') as f:\n",
    "    vecs_count = pickle.load(f)"
   ]
  },
  {
   "cell_type": "code",
   "execution_count": 80,
   "metadata": {},
   "outputs": [],
   "source": [
    "with open('vecs_tfidf.pkl', 'rb') as f:\n",
    "    vecs_tfidf = pickle.load(f)"
   ]
  },
  {
   "cell_type": "markdown",
   "metadata": {},
   "source": [
    "### Bestimmen Sie in Ihrem Datensatz das Dokument, das zum ersten Dokument des Datensatzes am ähnlichsten ist! Führen Sie diese Bestimmung mit mindestens drei verschiedenen Vektorschemata Ihrer Wahl aus! Führen Sie alles sowohl mit dem Euklidschen Abstand als auch mit der Kosinusähnlichkeit durch! Ändert sich das gefundene ähnlichste Dokument?"
   ]
  },
  {
   "cell_type": "code",
   "execution_count": 135,
   "metadata": {},
   "outputs": [],
   "source": [
    "df = pd.DataFrame(columns= ['Doku-tuple', 'Euk Abstand', 'Kosinus'], index=[i for i in range(len(vecs_tfidf.toarray()))])"
   ]
  },
  {
   "cell_type": "code",
   "execution_count": 136,
   "metadata": {},
   "outputs": [
    {
     "name": "stdout",
     "output_type": "stream",
     "text": [
      "Euklidischer Abstand und Kosinusähnlichkeit auf Basis von vecs_count gerechnet ..\n"
     ]
    }
   ],
   "source": [
    "for i in range(len(df)):\n",
    "    df['Doku-tuple'][i] = f'(0, {i})'\n",
    "    df['Euk Abstand'][i] = euclidean_distances(vecs_count[0], vecs_count[i])[0][0]\n",
    "    df['Kosinus'][i] = cosine_similarity(vecs_count[0], vecs_count[i])[0][0]\n",
    "print('Euklidischer Abstand und Kosinusähnlichkeit auf Basis von vecs_count gerechnet ..')"
   ]
  },
  {
   "cell_type": "code",
   "execution_count": 138,
   "metadata": {},
   "outputs": [
    {
     "data": {
      "text/plain": [
       "(34886, 34886)"
      ]
     },
     "execution_count": 138,
     "metadata": {},
     "output_type": "execute_result"
    }
   ],
   "source": [
    "# Check der Länge des dfs\n",
    "df.shape[0], len(texts)"
   ]
  },
  {
   "cell_type": "code",
   "execution_count": 140,
   "metadata": {},
   "outputs": [
    {
     "data": {
      "text/plain": [
       "(34886, 34886)"
      ]
     },
     "execution_count": 140,
     "metadata": {},
     "output_type": "execute_result"
    }
   ],
   "source": [
    "len(vecs_count.toarray()), len(vecs_tfidf.toarray())"
   ]
  },
  {
   "cell_type": "code",
   "execution_count": 197,
   "metadata": {},
   "outputs": [],
   "source": [
    "df_ = pd.DataFrame(columns= ['Doku-tuple', 'Euk Abstand', 'Kosinus'], index=[i for i in range(len(vecs_tfidf.toarray()))])"
   ]
  },
  {
   "cell_type": "code",
   "execution_count": 198,
   "metadata": {},
   "outputs": [
    {
     "name": "stdout",
     "output_type": "stream",
     "text": [
      "Euklidischer Abstand und Kosinusähnlichkeit auf Basis von vecs_tfidf gerechnet ..\n"
     ]
    }
   ],
   "source": [
    "for i in range(len(df_)):\n",
    "    df_['Doku-tuple'][i] = f'(0, {i})'\n",
    "    df_['Euk Abstand'][i] = euclidean_distances(vecs_tfidf[0], vecs_tfidf[i])[0][0]\n",
    "    df_['Kosinus'][i] = cosine_similarity(vecs_tfidf[0], vecs_tfidf[i])[0][0]\n",
    "print('Euklidischer Abstand und Kosinusähnlichkeit auf Basis von vecs_tfidf gerechnet ..')"
   ]
  },
  {
   "cell_type": "code",
   "execution_count": 194,
   "metadata": {},
   "outputs": [
    {
     "data": {
      "text/plain": [
       "(34886, 34886)"
      ]
     },
     "execution_count": 194,
     "metadata": {},
     "output_type": "execute_result"
    }
   ],
   "source": [
    "df_.shape[0], len(texts)"
   ]
  },
  {
   "cell_type": "code",
   "execution_count": 195,
   "metadata": {},
   "outputs": [
    {
     "data": {
      "text/html": [
       "<div>\n",
       "<style scoped>\n",
       "    .dataframe tbody tr th:only-of-type {\n",
       "        vertical-align: middle;\n",
       "    }\n",
       "\n",
       "    .dataframe tbody tr th {\n",
       "        vertical-align: top;\n",
       "    }\n",
       "\n",
       "    .dataframe thead th {\n",
       "        text-align: right;\n",
       "    }\n",
       "</style>\n",
       "<table border=\"1\" class=\"dataframe\">\n",
       "  <thead>\n",
       "    <tr style=\"text-align: right;\">\n",
       "      <th></th>\n",
       "      <th>Doku-tuple</th>\n",
       "      <th>Euk Abstand</th>\n",
       "      <th>Kosinus</th>\n",
       "    </tr>\n",
       "  </thead>\n",
       "  <tbody>\n",
       "    <tr>\n",
       "      <th>34881</th>\n",
       "      <td>(0, 34881)</td>\n",
       "      <td>35.735137</td>\n",
       "      <td>0.040028</td>\n",
       "    </tr>\n",
       "    <tr>\n",
       "      <th>34882</th>\n",
       "      <td>(0, 34882)</td>\n",
       "      <td>8.246211</td>\n",
       "      <td>0.000000</td>\n",
       "    </tr>\n",
       "    <tr>\n",
       "      <th>34883</th>\n",
       "      <td>(0, 34883)</td>\n",
       "      <td>10.723805</td>\n",
       "      <td>0.000000</td>\n",
       "    </tr>\n",
       "    <tr>\n",
       "      <th>34884</th>\n",
       "      <td>(0, 34884)</td>\n",
       "      <td>15.198684</td>\n",
       "      <td>0.066073</td>\n",
       "    </tr>\n",
       "    <tr>\n",
       "      <th>34885</th>\n",
       "      <td>(0, 34885)</td>\n",
       "      <td>9.433981</td>\n",
       "      <td>0.000000</td>\n",
       "    </tr>\n",
       "  </tbody>\n",
       "</table>\n",
       "</div>"
      ],
      "text/plain": [
       "       Doku-tuple  Euk Abstand   Kosinus\n",
       "34881  (0, 34881)    35.735137  0.040028\n",
       "34882  (0, 34882)     8.246211  0.000000\n",
       "34883  (0, 34883)    10.723805  0.000000\n",
       "34884  (0, 34884)    15.198684  0.066073\n",
       "34885  (0, 34885)     9.433981  0.000000"
      ]
     },
     "execution_count": 195,
     "metadata": {},
     "output_type": "execute_result"
    }
   ],
   "source": [
    "df.tail()"
   ]
  },
  {
   "cell_type": "code",
   "execution_count": 199,
   "metadata": {},
   "outputs": [
    {
     "data": {
      "text/html": [
       "<div>\n",
       "<style scoped>\n",
       "    .dataframe tbody tr th:only-of-type {\n",
       "        vertical-align: middle;\n",
       "    }\n",
       "\n",
       "    .dataframe tbody tr th {\n",
       "        vertical-align: top;\n",
       "    }\n",
       "\n",
       "    .dataframe thead th {\n",
       "        text-align: right;\n",
       "    }\n",
       "</style>\n",
       "<table border=\"1\" class=\"dataframe\">\n",
       "  <thead>\n",
       "    <tr style=\"text-align: right;\">\n",
       "      <th></th>\n",
       "      <th>Doku-tuple</th>\n",
       "      <th>Euk Abstand</th>\n",
       "      <th>Kosinus</th>\n",
       "    </tr>\n",
       "  </thead>\n",
       "  <tbody>\n",
       "    <tr>\n",
       "      <th>34881</th>\n",
       "      <td>(0, 34881)</td>\n",
       "      <td>1.405115</td>\n",
       "      <td>0.012826</td>\n",
       "    </tr>\n",
       "    <tr>\n",
       "      <th>34882</th>\n",
       "      <td>(0, 34882)</td>\n",
       "      <td>1.414214</td>\n",
       "      <td>0.0</td>\n",
       "    </tr>\n",
       "    <tr>\n",
       "      <th>34883</th>\n",
       "      <td>(0, 34883)</td>\n",
       "      <td>1.414214</td>\n",
       "      <td>0.0</td>\n",
       "    </tr>\n",
       "    <tr>\n",
       "      <th>34884</th>\n",
       "      <td>(0, 34884)</td>\n",
       "      <td>1.391639</td>\n",
       "      <td>0.03167</td>\n",
       "    </tr>\n",
       "    <tr>\n",
       "      <th>34885</th>\n",
       "      <td>(0, 34885)</td>\n",
       "      <td>1.414214</td>\n",
       "      <td>0.0</td>\n",
       "    </tr>\n",
       "  </tbody>\n",
       "</table>\n",
       "</div>"
      ],
      "text/plain": [
       "       Doku-tuple Euk Abstand   Kosinus\n",
       "34881  (0, 34881)    1.405115  0.012826\n",
       "34882  (0, 34882)    1.414214       0.0\n",
       "34883  (0, 34883)    1.414214       0.0\n",
       "34884  (0, 34884)    1.391639   0.03167\n",
       "34885  (0, 34885)    1.414214       0.0"
      ]
     },
     "execution_count": 199,
     "metadata": {},
     "output_type": "execute_result"
    }
   ],
   "source": [
    "df_.tail()"
   ]
  },
  {
   "cell_type": "code",
   "execution_count": 200,
   "metadata": {},
   "outputs": [],
   "source": [
    "df['Euk Abstand']= pd.to_numeric(df['Euk Abstand'], errors='coerce')\n",
    "df['Kosinus'] = pd.to_numeric(df['Kosinus'], errors='coerce')\n",
    "\n",
    "df_['Euk Abstand']= pd.to_numeric(df_['Euk Abstand'], errors='coerce')\n",
    "df_['Kosinus'] = pd.to_numeric(df_['Kosinus'], errors='coerce')"
   ]
  },
  {
   "cell_type": "code",
   "execution_count": 201,
   "metadata": {},
   "outputs": [
    {
     "name": "stdout",
     "output_type": "stream",
     "text": [
      "\u001b[31mVectorizer Counter\u001b[0m Die ähnlichsten Dokumente zu dem ersten Dokument auf Basis von \u001b[31mEuklidischem Abstand:\u001b[0m\n",
      "\u001b[93mDokument 0\u001b[0m\n",
      "\u001b[93mDokument 18965\u001b[0m\n",
      "\u001b[31mVectorizer Counter\u001b[0m Die ähnlichsten Dokumente zu dem ersten Dokument auf Basis von \u001b[31mKosinusähnlichkeit:\u001b[0m\n",
      "\u001b[93mDokument 0\u001b[0m\n",
      "\u001b[93mDokument 18390\u001b[0m\n"
     ]
    }
   ],
   "source": [
    "print(colored(\"Vectorizer Counter\", color = 'red'),\"Die ähnlichsten Dokumente zu dem ersten Dokument auf Basis von\", colored(\"Euklidischem Abstand:\", color='red'))\n",
    "wert0 = df[df['Euk Abstand'] == min(df['Euk Abstand'])]['Doku-tuple'].values[0].split()[1].replace(')','')\n",
    "wert1 = df[df['Euk Abstand'] == df['Euk Abstand'].nsmallest(2).iloc[-1]]['Doku-tuple'].values[0].split()[1].replace(')','')\n",
    "print(f\"\\033[93mDokument {wert0}\\033[0m\")\n",
    "print(f\"\\033[93mDokument {wert1}\\033[0m\")\n",
    "\n",
    "print(colored(\"Vectorizer Counter\", color = 'red'),\"Die ähnlichsten Dokumente zu dem ersten Dokument auf Basis von\", colored(\"Kosinusähnlichkeit:\", color='red'))\n",
    "wert_ = df[df['Kosinus'] == max(df['Kosinus'])]['Doku-tuple'].values[0].split()[1].replace(')','')\n",
    "wert_1 = df[df['Kosinus'] == df['Kosinus'].nlargest(2).iloc[-1]]['Doku-tuple'].values[0].split()[1].replace(')','')\n",
    "print(f\"\\033[93mDokument {wert_}\\033[0m\")\n",
    "print(f\"\\033[93mDokument {wert_1}\\033[0m\")"
   ]
  },
  {
   "cell_type": "code",
   "execution_count": 202,
   "metadata": {},
   "outputs": [
    {
     "name": "stdout",
     "output_type": "stream",
     "text": [
      "\u001b[31mVectorizer tfidf\u001b[0m Die ähnlichsten Dokumente zu dem ersten Dokument auf Basis von \u001b[31mEuklidischem Abstand:\u001b[0m\n",
      "\u001b[93mDokument 0\u001b[0m\n",
      "\u001b[93mDokument 18496\u001b[0m\n",
      "\u001b[31mVectorizer tfidf\u001b[0m Die ähnlichsten Dokumente zu dem ersten Dokument auf Basis von \u001b[31mKosinusähnlichkeit:\u001b[0m\n",
      "\u001b[93mDokument 0\u001b[0m\n",
      "\u001b[93mDokument 18496\u001b[0m\n"
     ]
    }
   ],
   "source": [
    "print(colored(\"Vectorizer tfidf\", color = 'red'),\"Die ähnlichsten Dokumente zu dem ersten Dokument auf Basis von\", colored(\"Euklidischem Abstand:\", color='red'))\n",
    "wert0_ = df_[df_['Euk Abstand'] == min(df_['Euk Abstand'])]['Doku-tuple'].values[0].split()[1].replace(')','')\n",
    "wert1_ = df_[df_['Euk Abstand'] == df_['Euk Abstand'].nsmallest(2).iloc[-1]]['Doku-tuple'].values[0].split()[1].replace(')','')\n",
    "print(f\"\\033[93mDokument {wert0_}\\033[0m\")\n",
    "print(f\"\\033[93mDokument {wert1_}\\033[0m\")\n",
    "\n",
    "print(colored(\"Vectorizer tfidf\", color = 'red'),\"Die ähnlichsten Dokumente zu dem ersten Dokument auf Basis von\", colored(\"Kosinusähnlichkeit:\", color='red'))\n",
    "wert_0 = df_[df_['Kosinus'] == max(df_['Kosinus'])]['Doku-tuple'].values[0].split()[1].replace(')','')\n",
    "_wert = df_[df_['Kosinus'] == df_['Kosinus'].nlargest(2).iloc[-1]]['Doku-tuple'].values[0].split()[1].replace(')','')\n",
    "print(f\"\\033[93mDokument {wert_0}\\033[0m\")\n",
    "print(f\"\\033[93mDokument {_wert}\\033[0m\")"
   ]
  },
  {
   "cell_type": "code",
   "execution_count": 203,
   "metadata": {},
   "outputs": [
    {
     "name": "stdout",
     "output_type": "stream",
     "text": [
      "\u001b[34m Count Verktorizer ==> Auf Basis von Euklidischem Abstand\u001b[0m\n",
      "\n",
      "\u001b[93mDas erste Dokument - Doku 0\u001b[0m\n",
      "A bartender is working at a saloon, serving drinks to customers. After he fills a stereotypically Irish man's bucket with beer, Carrie Nation and her followers burst inside. They assault the Irish man, pulling his hat over his eyes and then dumping the beer over his head. The group then begin wrecking the bar, smashing the fixtures, mirrors, and breaking the cash register. The bartender then sprays seltzer water in Nation's face before a group of policemen appear and order everybody to leave.[1]\n",
      " \n",
      "\u001b[93mDas ähnlichste Dokument zu dem ersten Dokument - Doku 0\u001b[0m\n",
      "A bartender is working at a saloon, serving drinks to customers. After he fills a stereotypically Irish man's bucket with beer, Carrie Nation and her followers burst inside. They assault the Irish man, pulling his hat over his eyes and then dumping the beer over his head. The group then begin wrecking the bar, smashing the fixtures, mirrors, and breaking the cash register. The bartender then sprays seltzer water in Nation's face before a group of policemen appear and order everybody to leave.[1]\n",
      " \n",
      "\u001b[93mDas zweite ähnlichste Dokument zu dem ersten Dokument - Doku 18965\u001b[0m\n",
      "A man is persecuted by the number 9.\n"
     ]
    }
   ],
   "source": [
    "# das originale Dokument\n",
    "print(\"\\033[34m Count Verktorizer ==> Auf Basis von Euklidischem Abstand\\033[0m\\n\")\n",
    "print(\"\\033[93mDas erste Dokument - Doku 0\\033[0m\")\n",
    "print(texts[0])\n",
    "print(\" \")\n",
    "print(f\"\\033[93mDas ähnlichste Dokument zu dem ersten Dokument - Doku {wert0}\\033[0m\")\n",
    "print(texts[0])\n",
    "print(\" \")\n",
    "print(f\"\\033[93mDas zweite ähnlichste Dokument zu dem ersten Dokument - Doku {wert1}\\033[0m\")\n",
    "print(texts[18965])"
   ]
  },
  {
   "cell_type": "code",
   "execution_count": 171,
   "metadata": {},
   "outputs": [
    {
     "name": "stdout",
     "output_type": "stream",
     "text": [
      "\u001b[34m Count Verktorizer ==> Auf Basis von Kosinusähnlichkeit\u001b[0m\n",
      "\n",
      "\u001b[93mDas erste Dokument - Doku 0\u001b[0m\n",
      "A bartender is working at a saloon, serving drinks to customers. After he fills a stereotypically Irish man's bucket with beer, Carrie Nation and her followers burst inside. They assault the Irish man, pulling his hat over his eyes and then dumping the beer over his head. The group then begin wrecking the bar, smashing the fixtures, mirrors, and breaking the cash register. The bartender then sprays seltzer water in Nation's face before a group of policemen appear and order everybody to leave.[1]\n",
      " \n",
      "\u001b[93mDas ähnlichste Dokument zu dem ersten Dokument - Doku 0\u001b[0m\n",
      "A bartender is working at a saloon, serving drinks to customers. After he fills a stereotypically Irish man's bucket with beer, Carrie Nation and her followers burst inside. They assault the Irish man, pulling his hat over his eyes and then dumping the beer over his head. The group then begin wrecking the bar, smashing the fixtures, mirrors, and breaking the cash register. The bartender then sprays seltzer water in Nation's face before a group of policemen appear and order everybody to leave.[1]\n",
      " \n",
      "\u001b[93mDas zweite ähnlichste Dokument zu dem ersten Dokument - Doku 18390\u001b[0m\n",
      "A withdrawn, mild mannered man is surprised when his reflection in the mirror steps out of the mirror and tells him he is his alter ego, the kind of man he wishes he was. The man-in-the-mirror then begins to live the wild life that the man had always dreamed of.\n"
     ]
    }
   ],
   "source": [
    "# das originale Dokument\n",
    "print(\"\\033[34m Count Verktorizer ==> Auf Basis von Kosinusähnlichkeit\\033[0m\\n\")\n",
    "print(\"\\033[93mDas erste Dokument - Doku 0\\033[0m\")\n",
    "print(texts[0])\n",
    "print(\" \")\n",
    "print(f\"\\033[93mDas ähnlichste Dokument zu dem ersten Dokument - Doku {wert_}\\033[0m\")\n",
    "print(texts[0])\n",
    "print(\" \")\n",
    "print(f\"\\033[93mDas zweite ähnlichste Dokument zu dem ersten Dokument - Doku {wert_1}\\033[0m\")\n",
    "print(texts[18390])"
   ]
  },
  {
   "cell_type": "code",
   "execution_count": 204,
   "metadata": {},
   "outputs": [
    {
     "name": "stdout",
     "output_type": "stream",
     "text": [
      "\u001b[34m Tfidf Verktorizer ==> Auf Basis von Euklidischem Abstand\u001b[0m\n",
      "\n",
      "\u001b[93mDas erste Dokument - Doku 0\u001b[0m\n",
      "A bartender is working at a saloon, serving drinks to customers. After he fills a stereotypically Irish man's bucket with beer, Carrie Nation and her followers burst inside. They assault the Irish man, pulling his hat over his eyes and then dumping the beer over his head. The group then begin wrecking the bar, smashing the fixtures, mirrors, and breaking the cash register. The bartender then sprays seltzer water in Nation's face before a group of policemen appear and order everybody to leave.[1]\n",
      " \n",
      "\u001b[93mDas ähnlichste Dokument zu dem ersten Dokument - Doku 0\u001b[0m\n",
      "A bartender is working at a saloon, serving drinks to customers. After he fills a stereotypically Irish man's bucket with beer, Carrie Nation and her followers burst inside. They assault the Irish man, pulling his hat over his eyes and then dumping the beer over his head. The group then begin wrecking the bar, smashing the fixtures, mirrors, and breaking the cash register. The bartender then sprays seltzer water in Nation's face before a group of policemen appear and order everybody to leave.[1]\n",
      " \n",
      "\u001b[93mDas zweite ähnlichste Dokument zu dem ersten Dokument - Doku 18496\u001b[0m\n",
      "Two Irish families are evicted from their properties, but their children raise the money to regain them.\n"
     ]
    }
   ],
   "source": [
    "# das originale Dokument\n",
    "print(\"\\033[34m Tfidf Verktorizer ==> Auf Basis von Euklidischem Abstand\\033[0m\\n\")\n",
    "print(\"\\033[93mDas erste Dokument - Doku 0\\033[0m\")\n",
    "print(texts[0])\n",
    "print(\" \")\n",
    "print(f\"\\033[93mDas ähnlichste Dokument zu dem ersten Dokument - Doku {wert0_ }\\033[0m\")\n",
    "print(texts[0])\n",
    "print(\" \")\n",
    "print(f\"\\033[93mDas zweite ähnlichste Dokument zu dem ersten Dokument - Doku {wert1_}\\033[0m\")\n",
    "print(texts[18496])"
   ]
  },
  {
   "cell_type": "code",
   "execution_count": 205,
   "metadata": {},
   "outputs": [
    {
     "name": "stdout",
     "output_type": "stream",
     "text": [
      "\u001b[34m Tfidf Verktorizer ==> Auf Basis von Kosinusähnlichkeit\u001b[0m\n",
      "\n",
      "\u001b[93mDas erste Dokument - Doku 0\u001b[0m\n",
      "A bartender is working at a saloon, serving drinks to customers. After he fills a stereotypically Irish man's bucket with beer, Carrie Nation and her followers burst inside. They assault the Irish man, pulling his hat over his eyes and then dumping the beer over his head. The group then begin wrecking the bar, smashing the fixtures, mirrors, and breaking the cash register. The bartender then sprays seltzer water in Nation's face before a group of policemen appear and order everybody to leave.[1]\n",
      " \n",
      "\u001b[93mDas ähnlichste Dokument zu dem ersten Dokument - Doku 0\u001b[0m\n",
      "A bartender is working at a saloon, serving drinks to customers. After he fills a stereotypically Irish man's bucket with beer, Carrie Nation and her followers burst inside. They assault the Irish man, pulling his hat over his eyes and then dumping the beer over his head. The group then begin wrecking the bar, smashing the fixtures, mirrors, and breaking the cash register. The bartender then sprays seltzer water in Nation's face before a group of policemen appear and order everybody to leave.[1]\n",
      " \n",
      "\u001b[93mDas zweite ähnlichste Dokument zu dem ersten Dokument - Doku 18496\u001b[0m\n",
      "Two Irish families are evicted from their properties, but their children raise the money to regain them.\n"
     ]
    }
   ],
   "source": [
    "# das originale Dokument\n",
    "print(\"\\033[34m Tfidf Verktorizer ==> Auf Basis von Kosinusähnlichkeit\\033[0m\\n\")\n",
    "print(\"\\033[93mDas erste Dokument - Doku 0\\033[0m\")\n",
    "print(texts[0])\n",
    "print(\" \")\n",
    "print(f\"\\033[93mDas ähnlichste Dokument zu dem ersten Dokument - Doku {wert_0 }\\033[0m\")\n",
    "print(texts[0])\n",
    "print(\" \")\n",
    "print(f\"\\033[93mDas zweite ähnlichste Dokument zu dem ersten Dokument - Doku {_wert}\\033[0m\")\n",
    "print(texts[18496])"
   ]
  }
 ],
 "metadata": {
  "interpreter": {
   "hash": "11b2272c4f21ba7ef91cd620dbfd5e8689933469eea99b00bd1c0ddf5328b9ff"
  },
  "kernelspec": {
   "display_name": "Python 3.9.12 64-bit ('env': venv)",
   "name": "python3"
  },
  "language_info": {
   "codemirror_mode": {
    "name": "ipython",
    "version": 3
   },
   "file_extension": ".py",
   "mimetype": "text/x-python",
   "name": "python",
   "nbconvert_exporter": "python",
   "pygments_lexer": "ipython3",
   "version": "3.9.12"
  },
  "orig_nbformat": 4
 },
 "nbformat": 4,
 "nbformat_minor": 2
}
